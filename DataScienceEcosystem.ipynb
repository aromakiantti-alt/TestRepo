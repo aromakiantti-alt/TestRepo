{
  "metadata": {
    "kernelspec": {
      "name": "python",
      "display_name": "Python (Pyodide)",
      "language": "python"
    },
    "language_info": {
      "codemirror_mode": {
        "name": "python",
        "version": 3
      },
      "file_extension": ".py",
      "mimetype": "text/x-python",
      "name": "python",
      "nbconvert_exporter": "python",
      "pygments_lexer": "ipython3",
      "version": "3.8"
    }
  },
  "nbformat_minor": 5,
  "nbformat": 4,
  "cells": [
    {
      "id": "2e8e82c6-d42f-4c25-ba5e-07666d2b28a3",
      "cell_type": "markdown",
      "source": "# Data Science Tools and Ecosystem",
      "metadata": {}
    },
    {
      "id": "a71e7784-8cbe-417e-aa8c-68ab9c77ecfa",
      "cell_type": "markdown",
      "source": "In this notebook, Data Science Tools and Ecosystem are summarized.",
      "metadata": {}
    },
    {
      "id": "ba14fb7d-d92f-4d1d-b7db-8e2711920a19",
      "cell_type": "markdown",
      "source": "**Objectives:**\n\n- List popular languages for Data Science\n- Identify commonly used data science libraries\n- Create a table of open-source data science tools\n- Evaluate simple arithmetic expressions in Python\n- Convert minutes to hours using a Python expression",
      "metadata": {}
    },
    {
      "id": "49d2febf-1956-46a3-99e0-df20979a81f6",
      "cell_type": "markdown",
      "source": "Some of the popular languages that Data Scientists use are:\n\n1. Python\n2. R\n3. SQL\n4. Julia",
      "metadata": {}
    },
    {
      "id": "a6fc5b48-46f7-4289-8906-e9d2ebbea515",
      "cell_type": "markdown",
      "source": "Some of the commonly used libraries used by Data Scientists include:\n\n1. NumPy — numerical computing\n2. pandas — data manipulation\n3. Matplotlib — plotting/visualization\n4. Seaborn — statistical graphics\n5. scikit-learn — machine learning\n",
      "metadata": {}
    },
    {
      "id": "63f933b3-2bfd-47c0-9938-3a99f5eeaf37",
      "cell_type": "markdown",
      "source": "| Data Science Tools |\n| --- |\n| Jupyter Notebook |\n| RStudio |\n| Apache Zeppelin |\n",
      "metadata": {}
    },
    {
      "id": "53b3e9c1-77ff-4279-a1d6-991f4547fc2d",
      "cell_type": "markdown",
      "source": "### Below are a few examples of evaluating arithmetic expressions in Python",
      "metadata": {}
    },
    {
      "id": "6e5e02d3-04e4-40a4-9eda-657db9fb011e",
      "cell_type": "code",
      "source": "# This a simple arithmetic expression to mutiply then add integers\n(3*4)+5",
      "metadata": {
        "trusted": true
      },
      "outputs": [
        {
          "execution_count": 2,
          "output_type": "execute_result",
          "data": {
            "text/plain": "17"
          },
          "metadata": {}
        }
      ],
      "execution_count": 2
    },
    {
      "id": "e2083e72-9247-4b3d-a27a-a4ba5228849f",
      "cell_type": "code",
      "source": "# This will convert 200 minutes to hours by dividing by 60\n200 / 60",
      "metadata": {
        "trusted": true
      },
      "outputs": [
        {
          "execution_count": 3,
          "output_type": "execute_result",
          "data": {
            "text/plain": "3.3333333333333335"
          },
          "metadata": {}
        }
      ],
      "execution_count": 3
    },
    {
      "id": "b9db3518-cdd2-4272-802f-4f5dc39cbab8",
      "cell_type": "markdown",
      "source": "## Author\nAntti Aromaki",
      "metadata": {}
    },
    {
      "id": "7c8ccdd3-2470-42f4-908d-0fafb89902cc",
      "cell_type": "code",
      "source": "",
      "metadata": {
        "trusted": true
      },
      "outputs": [],
      "execution_count": null
    }
  ]
}